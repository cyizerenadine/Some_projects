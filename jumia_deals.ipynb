{
 "cells": [
  {
   "cell_type": "code",
   "execution_count": 2,
   "metadata": {},
   "outputs": [],
   "source": [
    "import re\n",
    "import numpy as np\n",
    "import requests\n",
    "from bs4 import BeautifulSoup\n",
    "import pandas as pd\n",
    "import lxml"
   ]
  },
  {
   "cell_type": "code",
   "execution_count": 112,
   "metadata": {},
   "outputs": [],
   "source": [
    "url = \"https://deals.jumia.rw/real-estate\""
   ]
  },
  {
   "cell_type": "code",
   "execution_count": 113,
   "metadata": {},
   "outputs": [],
   "source": [
    "def get_urls(url, url_page):\n",
    "    response = requests.get(url_page)\n",
    "    soup = BeautifulSoup(response.text, 'lxml')\n",
    "    tag_url = soup.select(\"article.post-holder\")\n",
    "    \n",
    "    urls= []\n",
    "    for tag in tag_url:\n",
    "        urls.append(url.strip(\"real-estate\") + tag.find(\"a\")[\"href\"])\n",
    "        \n",
    "    return urls"
   ]
  },
  {
   "cell_type": "code",
   "execution_count": 114,
   "metadata": {},
   "outputs": [],
   "source": [
    "def page(url, page_number):\n",
    "    links = []\n",
    "    for page in range(1, page_number+1):\n",
    "        links.extend(get_urls(url, url + '?page=' + str(page)))\n",
    "    return links"
   ]
  },
  {
   "cell_type": "code",
   "execution_count": 115,
   "metadata": {},
   "outputs": [],
   "source": [
    "def info(house_url):\n",
    "    response = requests.get(house_url)\n",
    "    soup = BeautifulSoup(response.text, 'lxml')\n",
    "    \n",
    "    title = soup.select(\"title\")[0].text\n",
    "    price = soup.select(\"span.price\")[0].text.strip(\"\\n\")\n",
    "    Rooms = soup.select(\"div.new-attr-style\")[0].find_all(\"span\")[0].text\n",
    "    plot = soup.select(\"div.new-attr-style\")[0].find_all(\"span\")[2].text\n",
    "    \n",
    "    data = {\"Title\":title, \"Price\": price, \"Rooms\":Rooms, \"Plot size\": plot}\n",
    "    \n",
    "    return data"
   ]
  },
  {
   "cell_type": "code",
   "execution_count": 116,
   "metadata": {},
   "outputs": [],
   "source": [
    "def final_data(urls):\n",
    "    final_data = []\n",
    "    for url in urls:\n",
    "        final_data.append(info(url))\n",
    "        \n",
    "    df = pd.DataFrame(final_data)\n",
    "    \n",
    "    return df"
   ]
  },
  {
   "cell_type": "code",
   "execution_count": null,
   "metadata": {},
   "outputs": [],
   "source": [
    "page_number = 2405\n",
    "links = page(url, page_number)"
   ]
  },
  {
   "cell_type": "code",
   "execution_count": null,
   "metadata": {},
   "outputs": [],
   "source": [
    "final_data(links)"
   ]
  },
  {
   "cell_type": "code",
   "execution_count": 111,
   "metadata": {},
   "outputs": [
    {
     "data": {
      "text/html": [
       "<div>\n",
       "<style scoped>\n",
       "    .dataframe tbody tr th:only-of-type {\n",
       "        vertical-align: middle;\n",
       "    }\n",
       "\n",
       "    .dataframe tbody tr th {\n",
       "        vertical-align: top;\n",
       "    }\n",
       "\n",
       "    .dataframe thead th {\n",
       "        text-align: right;\n",
       "    }\n",
       "</style>\n",
       "<table border=\"1\" class=\"dataframe\">\n",
       "  <thead>\n",
       "    <tr style=\"text-align: right;\">\n",
       "      <th></th>\n",
       "      <th>Title</th>\n",
       "      <th>Price</th>\n",
       "      <th>Rooms</th>\n",
       "      <th>Plot size</th>\n",
       "    </tr>\n",
       "  </thead>\n",
       "  <tbody>\n",
       "    <tr>\n",
       "      <th>0</th>\n",
       "      <td>House for sale | Nyarugunga | Jumia</td>\n",
       "      <td>65,000,000\\nRWF</td>\n",
       "      <td>4</td>\n",
       "      <td>400 m2</td>\n",
       "    </tr>\n",
       "    <tr>\n",
       "      <th>1</th>\n",
       "      <td>House for sale | Gikondo | Jumia</td>\n",
       "      <td>75,000,000\\nRWF</td>\n",
       "      <td>4</td>\n",
       "      <td>300 m2</td>\n",
       "    </tr>\n",
       "    <tr>\n",
       "      <th>2</th>\n",
       "      <td>House for sale | Kibagabaga | Jumia</td>\n",
       "      <td>78,000,000\\nRWF</td>\n",
       "      <td>4</td>\n",
       "      <td>500 m2</td>\n",
       "    </tr>\n",
       "    <tr>\n",
       "      <th>3</th>\n",
       "      <td>House for sale | Kimironko | Jumia</td>\n",
       "      <td>130,000,000\\nRWF</td>\n",
       "      <td>8</td>\n",
       "      <td>670 m2</td>\n",
       "    </tr>\n",
       "    <tr>\n",
       "      <th>4</th>\n",
       "      <td>HOUSE FOR SALE IN KIBAGABAGA KIGALI | Kibagaba...</td>\n",
       "      <td>300,000,000\\nRWF</td>\n",
       "      <td>4</td>\n",
       "      <td>1200 m2</td>\n",
       "    </tr>\n",
       "  </tbody>\n",
       "</table>\n",
       "</div>"
      ],
      "text/plain": [
       "                                               Title             Price Rooms  \\\n",
       "0                House for sale | Nyarugunga | Jumia   65,000,000\\nRWF     4   \n",
       "1                   House for sale | Gikondo | Jumia   75,000,000\\nRWF     4   \n",
       "2                House for sale | Kibagabaga | Jumia   78,000,000\\nRWF     4   \n",
       "3                 House for sale | Kimironko | Jumia  130,000,000\\nRWF     8   \n",
       "4  HOUSE FOR SALE IN KIBAGABAGA KIGALI | Kibagaba...  300,000,000\\nRWF     4   \n",
       "\n",
       "  Plot size  \n",
       "0    400 m2  \n",
       "1    300 m2  \n",
       "2    500 m2  \n",
       "3    670 m2  \n",
       "4   1200 m2  "
      ]
     },
     "execution_count": 111,
     "metadata": {},
     "output_type": "execute_result"
    }
   ],
   "source": [
    "final_data(link[1:6])"
   ]
  },
  {
   "cell_type": "code",
   "execution_count": null,
   "metadata": {},
   "outputs": [],
   "source": []
  }
 ],
 "metadata": {
  "kernelspec": {
   "display_name": "Python 3",
   "language": "python",
   "name": "python3"
  },
  "language_info": {
   "codemirror_mode": {
    "name": "ipython",
    "version": 3
   },
   "file_extension": ".py",
   "mimetype": "text/x-python",
   "name": "python",
   "nbconvert_exporter": "python",
   "pygments_lexer": "ipython3",
   "version": "3.8.5"
  }
 },
 "nbformat": 4,
 "nbformat_minor": 4
}
