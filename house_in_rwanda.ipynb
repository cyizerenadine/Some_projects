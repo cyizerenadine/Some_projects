{
 "cells": [
  {
   "cell_type": "code",
   "execution_count": 1,
   "metadata": {},
   "outputs": [
    {
     "name": "stderr",
     "output_type": "stream",
     "text": [
      "C:\\Users\\student\\ANACONDA\\lib\\site-packages\\pandas\\core\\computation\\expressions.py:20: UserWarning: Pandas requires version '2.7.3' or newer of 'numexpr' (version '2.7.1' currently installed).\n",
      "  from pandas.core.computation.check import NUMEXPR_INSTALLED\n"
     ]
    }
   ],
   "source": [
    "import re\n",
    "import numpy as np\n",
    "import requests\n",
    "from bs4 import BeautifulSoup\n",
    "import pandas as pd\n",
    "import lxml"
   ]
  },
  {
   "cell_type": "code",
   "execution_count": 3,
   "metadata": {},
   "outputs": [],
   "source": [
    "url= \"https://www.houseinrwanda.com/\""
   ]
  },
  {
   "cell_type": "code",
   "execution_count": 14,
   "metadata": {},
   "outputs": [],
   "source": [
    "def house_urls(url, url_page):\n",
    "    response = requests.get(url)\n",
    "    soup = BeautifulSoup(response.text, 'lxml')\n",
    "    h5_tag= soup.select(\"h5\")\n",
    "    links = []\n",
    "    for h5 in h5_tag:\n",
    "        links.append(url + h5.find(\"a\")[\"href\"])\n",
    "    return links"
   ]
  },
  {
   "cell_type": "code",
   "execution_count": 15,
   "metadata": {},
   "outputs": [],
   "source": [
    "def navigate_pages(url, last_page):\n",
    "    urls = []\n",
    "    for i in range(0, last_page):\n",
    "        urls.extend(house_urls(url, url+'?page=' + str(i)))\n",
    "    return urls"
   ]
  },
  {
   "cell_type": "code",
   "execution_count": 6,
   "metadata": {},
   "outputs": [],
   "source": [
    "def info(link_url):\n",
    "    response = requests.get(link_url)\n",
    "    soup = BeautifulSoup(response.text, 'lxml')\n",
    "    prop_desc = soup.select('div.card-body')\n",
    "    advert_lines = prop_desc[0].text.split('\\n')\n",
    "\n",
    "    advert_lines = [line for line in advert_lines if line]\n",
    "    \n",
    "    if advert_lines == []:\n",
    "        advert_lines = prop_desc[1].text.split('\\n')\n",
    "        advert_lines = [line for line in advert_lines if line]\n",
    "    \n",
    "    advert_dict = {}\n",
    "    advert_dict[\"Title\"] = soup.find_all(\"title\")[0].text\n",
    "    for line in advert_lines:\n",
    "        key_value = line.split(':')\n",
    "        key = key_value[0].strip()\n",
    "        value = key_value[1].strip()\n",
    "        advert_dict[key] = value\n",
    "    return advert_dict\n"
   ]
  },
  {
   "cell_type": "code",
   "execution_count": 7,
   "metadata": {},
   "outputs": [],
   "source": [
    "def final_data(urls):\n",
    "    data = []\n",
    "    for link in urls:\n",
    "        data.append(info(link))\n",
    "    df = pd.DataFrame(data)\n",
    "    return df"
   ]
  },
  {
   "cell_type": "code",
   "execution_count": 18,
   "metadata": {},
   "outputs": [],
   "source": [
    "urls = navigate_pages(url=url, last_page=1)"
   ]
  },
  {
   "cell_type": "code",
   "execution_count": 19,
   "metadata": {},
   "outputs": [
    {
     "data": {
      "text/plain": [
       "'https://www.houseinrwanda.com//property/rent/apartment/kigali-apartment-rent-gisozi-belle-etoile-close-main-road'"
      ]
     },
     "execution_count": 19,
     "metadata": {},
     "output_type": "execute_result"
    }
   ],
   "source": [
    "urls[1]"
   ]
  },
  {
   "cell_type": "code",
   "execution_count": 22,
   "metadata": {},
   "outputs": [],
   "source": [
    "data_csv = final_data(urls[1:3])"
   ]
  },
  {
   "cell_type": "code",
   "execution_count": 23,
   "metadata": {},
   "outputs": [
    {
     "data": {
      "text/html": [
       "<div>\n",
       "<style scoped>\n",
       "    .dataframe tbody tr th:only-of-type {\n",
       "        vertical-align: middle;\n",
       "    }\n",
       "\n",
       "    .dataframe tbody tr th {\n",
       "        vertical-align: top;\n",
       "    }\n",
       "\n",
       "    .dataframe thead th {\n",
       "        text-align: right;\n",
       "    }\n",
       "</style>\n",
       "<table border=\"1\" class=\"dataframe\">\n",
       "  <thead>\n",
       "    <tr style=\"text-align: right;\">\n",
       "      <th></th>\n",
       "      <th>Title</th>\n",
       "      <th>Advert type</th>\n",
       "      <th>Price</th>\n",
       "      <th>Bedrooms</th>\n",
       "      <th>Total floors</th>\n",
       "      <th>Address</th>\n",
       "      <th>Property type</th>\n",
       "      <th>Bathrooms</th>\n",
       "      <th>Plot size</th>\n",
       "      <th>Furnished</th>\n",
       "      <th>Expiry date</th>\n",
       "    </tr>\n",
       "  </thead>\n",
       "  <tbody>\n",
       "    <tr>\n",
       "      <th>0</th>\n",
       "      <td>Kigali Apartment for rent in Gisozi (Belle Eto...</td>\n",
       "      <td>Rent</td>\n",
       "      <td>600 Usd /month</td>\n",
       "      <td>3</td>\n",
       "      <td>1</td>\n",
       "      <td>Kigali City, Gasabo, Gisozi</td>\n",
       "      <td>Apartment</td>\n",
       "      <td>3</td>\n",
       "      <td></td>\n",
       "      <td>Yes</td>\n",
       "      <td>June 01, 2023</td>\n",
       "    </tr>\n",
       "    <tr>\n",
       "      <th>1</th>\n",
       "      <td>A furnished house for rent located in Kanombe ...</td>\n",
       "      <td>Rent</td>\n",
       "      <td>Price on request</td>\n",
       "      <td>5</td>\n",
       "      <td></td>\n",
       "      <td>Kigali City, Kicukiro, Kanombe</td>\n",
       "      <td>House</td>\n",
       "      <td>5</td>\n",
       "      <td></td>\n",
       "      <td>Yes</td>\n",
       "      <td>October 01, 2023</td>\n",
       "    </tr>\n",
       "  </tbody>\n",
       "</table>\n",
       "</div>"
      ],
      "text/plain": [
       "                                               Title Advert type  \\\n",
       "0  Kigali Apartment for rent in Gisozi (Belle Eto...        Rent   \n",
       "1  A furnished house for rent located in Kanombe ...        Rent   \n",
       "\n",
       "              Price Bedrooms Total floors                         Address  \\\n",
       "0    600 Usd /month        3            1     Kigali City, Gasabo, Gisozi   \n",
       "1  Price on request        5               Kigali City, Kicukiro, Kanombe   \n",
       "\n",
       "  Property type Bathrooms Plot size Furnished       Expiry date  \n",
       "0     Apartment         3                 Yes     June 01, 2023  \n",
       "1         House         5                 Yes  October 01, 2023  "
      ]
     },
     "execution_count": 23,
     "metadata": {},
     "output_type": "execute_result"
    }
   ],
   "source": [
    "data_csv"
   ]
  },
  {
   "cell_type": "code",
   "execution_count": null,
   "metadata": {},
   "outputs": [],
   "source": []
  },
  {
   "cell_type": "code",
   "execution_count": null,
   "metadata": {},
   "outputs": [],
   "source": []
  },
  {
   "cell_type": "code",
   "execution_count": null,
   "metadata": {},
   "outputs": [],
   "source": []
  },
  {
   "cell_type": "code",
   "execution_count": null,
   "metadata": {},
   "outputs": [],
   "source": []
  },
  {
   "cell_type": "code",
   "execution_count": null,
   "metadata": {},
   "outputs": [],
   "source": []
  },
  {
   "cell_type": "code",
   "execution_count": null,
   "metadata": {},
   "outputs": [],
   "source": []
  },
  {
   "cell_type": "code",
   "execution_count": null,
   "metadata": {},
   "outputs": [],
   "source": []
  },
  {
   "cell_type": "code",
   "execution_count": null,
   "metadata": {},
   "outputs": [],
   "source": []
  },
  {
   "cell_type": "code",
   "execution_count": null,
   "metadata": {},
   "outputs": [],
   "source": []
  },
  {
   "cell_type": "code",
   "execution_count": null,
   "metadata": {},
   "outputs": [],
   "source": [
    "def extract_data_from_table(table, yr, team):\n",
    "    \"\"\"\n",
    "    Given an html table for a single year, extract all the data\n",
    "    Arguments:\n",
    "    table --  html table retrieved using BS\n",
    "    yr -- year under consideration\n",
    "    team -- team/country name\n",
    "    \n",
    "    \"\"\"\n",
    "    \n",
    "    # Get all rows from the table using the function: findChildren()\n",
    "    # on the table object  with 'tr' as parameter\n",
    "    rows = table.findChildren(['tr'])\n",
    "    \n",
    "    # List to hold the data \n",
    "    data = []\n",
    "    \n",
    "    # Loop through the rows and do the following:\n",
    "    # 1. get cells from each row using function findChildren() with parameters 'td', 'th'\n",
    "    # 2. Declare variables to hold information for player number, position and club\n",
    "    # 3. Loop through eeach cell and do the following:\n",
    "    # 1. Retrive text from the cell using text() function and remove \n",
    "    # \"\\n\" with function strip()\n",
    "    # 2. After some cleaning, set player number, position and club to text retrieved\n",
    "    \n",
    "    # first for loop (use row the counter variable) to keep with my variable naming below\n",
    "    for row in rows:\n",
    "        try:\n",
    "            cells = row.findChildren(['td', 'th'])\n",
    "            num, pos, name, club = None, None, None, None\n",
    "            # second for loop use enumerate with i, cell as counter variables\n",
    "            for i, cell in enumerate(cells):\n",
    "                txt = cell.text.strip('\\n')\n",
    "                if i == 0:\n",
    "                    try:\n",
    "                        # convert to integer\n",
    "                        num = int(txt)\n",
    "                    except:\n",
    "                        if txt == \" \":\n",
    "                            num = np.nan\n",
    "                elif i == 1:\n",
    "                    pos = txt\n",
    "                elif i == 2:\n",
    "                    name = txt\n",
    "                elif i == 6:\n",
    "                    club = txt\n",
    "            # dictionary which holds the data we need for EventYear, team name, player number\n",
    "            # position, name and club\n",
    "            item = {\"EventYear\":yr, \"Team\":team, \"Number\":num, \"Position\": pos, \"Player\":name, \"Club\":club}\n",
    "            \n",
    "        except:\n",
    "            pass\n",
    "    # add the item to the data list using append() method\n",
    "        data.append(item)\n",
    "    # return the list of data\n",
    "    return data"
   ]
  }
 ],
 "metadata": {
  "kernelspec": {
   "display_name": "Python 3",
   "language": "python",
   "name": "python3"
  },
  "language_info": {
   "codemirror_mode": {
    "name": "ipython",
    "version": 3
   },
   "file_extension": ".py",
   "mimetype": "text/x-python",
   "name": "python",
   "nbconvert_exporter": "python",
   "pygments_lexer": "ipython3",
   "version": "3.8.5"
  }
 },
 "nbformat": 4,
 "nbformat_minor": 4
}
