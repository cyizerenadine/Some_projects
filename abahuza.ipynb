{
 "cells": [
  {
   "cell_type": "code",
   "execution_count": 250,
   "metadata": {},
   "outputs": [],
   "source": [
    "# import re\n",
    "import numpy as np\n",
    "import requests\n",
    "from bs4 import BeautifulSoup\n",
    "import pandas as pd\n",
    "import lxml"
   ]
  },
  {
   "cell_type": "code",
   "execution_count": 251,
   "metadata": {},
   "outputs": [],
   "source": [
    "url= \"https://www.abahuza.com\""
   ]
  },
  {
   "cell_type": "code",
   "execution_count": 252,
   "metadata": {},
   "outputs": [],
   "source": [
    "def get_urls(url):\n",
    "    headers = {\n",
    "    \"User-Agent\": \"Mozilla/5.0 (X11; Linux x86_64; rv:60.0) Gecko/20100101 Firefox/60.0\"\n",
    "    }\n",
    "    page = requests.get(url, headers=headers)\n",
    "    soup = BeautifulSoup(page.content, 'html.parser')\n",
    "    div_element = soup.select(\"div.image\")\n",
    "    \n",
    "    links = []\n",
    "    for i in div_element:\n",
    "        links.append(i.select(\"a\")[0][\"href\"])\n",
    "        \n",
    "    return links"
   ]
  },
  {
   "cell_type": "code",
   "execution_count": 253,
   "metadata": {},
   "outputs": [],
   "source": [
    "def pages_url(url, pages):\n",
    "    tot = []\n",
    "    for j in range(1, pages):\n",
    "        tot.extend(get_urls(url + \"/#\" + str(j)))\n",
    "    return tot"
   ]
  },
  {
   "cell_type": "code",
   "execution_count": 256,
   "metadata": {},
   "outputs": [],
   "source": [
    "def info(link):\n",
    "    headers = {\n",
    "    \"User-Agent\": \"Mozilla/5.0 (X11; Linux x86_64; rv:60.0) Gecko/20100101 Firefox/60.0\"\n",
    "    }\n",
    "    page = requests.get(link, headers=headers)\n",
    "    soup = BeautifulSoup(page.content, 'html.parser')\n",
    "    data = {}\n",
    "    data[\"Title\"] = soup.select(\"h3\")[0].text.strip(\" \\n\")\n",
    "    tr_data_1 = soup.select(\"div.property-d-table\")[0].select(\"tbody\")[0].find_all(\"tr\")\n",
    "    for tr in tr_data_1:\n",
    "        data[tr.select(\"td\")[0].text] = \"\".join(tr.select(\"td\")[1].text.split())\n",
    "        \n",
    "    tr_data_2 = soup.select(\"div.property-d-table\")[0].select(\"tbody\")[1].find_all(\"tr\")\n",
    "    for tr_2 in tr_data_2:\n",
    "        data[tr_2.select(\"td\")[0].text] = \"\".join(tr_2.select(\"td\")[1].text.split())\n",
    "    return data"
   ]
  },
  {
   "cell_type": "code",
   "execution_count": 257,
   "metadata": {},
   "outputs": [],
   "source": [
    "def all_links(links):\n",
    "    data = []\n",
    "    for i in links:\n",
    "        data.append(info(i))\n",
    "        \n",
    "    df = pd.DataFrame(data)\n",
    "    df.to_csv(\"full_abahuza.csv\")\n",
    "    return df"
   ]
  },
  {
   "cell_type": "code",
   "execution_count": 268,
   "metadata": {},
   "outputs": [],
   "source": [
    "link= pd.read_csv(\"new_book.csv\")"
   ]
  },
  {
   "cell_type": "code",
   "execution_count": 270,
   "metadata": {},
   "outputs": [],
   "source": [
    "links=link[\"Links\"]"
   ]
  },
  {
   "cell_type": "code",
   "execution_count": 273,
   "metadata": {},
   "outputs": [
    {
     "data": {
      "text/html": [
       "<div>\n",
       "<style scoped>\n",
       "    .dataframe tbody tr th:only-of-type {\n",
       "        vertical-align: middle;\n",
       "    }\n",
       "\n",
       "    .dataframe tbody tr th {\n",
       "        vertical-align: top;\n",
       "    }\n",
       "\n",
       "    .dataframe thead th {\n",
       "        text-align: right;\n",
       "    }\n",
       "</style>\n",
       "<table border=\"1\" class=\"dataframe\">\n",
       "  <thead>\n",
       "    <tr style=\"text-align: right;\">\n",
       "      <th></th>\n",
       "      <th>Title</th>\n",
       "      <th>Property Id</th>\n",
       "      <th>Property type</th>\n",
       "      <th>Price, Main house</th>\n",
       "      <th>Land size</th>\n",
       "      <th>Bedrooms</th>\n",
       "      <th>Bathrooms</th>\n",
       "      <th>Available From</th>\n",
       "      <th>Listing type</th>\n",
       "      <th>Furnished</th>\n",
       "      <th>Bookable</th>\n",
       "      <th>Province</th>\n",
       "      <th>Disctrict</th>\n",
       "      <th>Neighbourhood</th>\n",
       "      <th>Price, 3 bedroom apartment</th>\n",
       "    </tr>\n",
       "  </thead>\n",
       "  <tbody>\n",
       "    <tr>\n",
       "      <th>0</th>\n",
       "      <td>A 4 BEDROOM HOUSE FOR RENT IN KIGALI AT KANOMBE</td>\n",
       "      <td>HR400K125620232703LUKanombe</td>\n",
       "      <td>House</td>\n",
       "      <td>Rwf400000/month</td>\n",
       "      <td>m²</td>\n",
       "      <td>4</td>\n",
       "      <td>3</td>\n",
       "      <td>Apr3,2023</td>\n",
       "      <td>Rent</td>\n",
       "      <td>No</td>\n",
       "      <td>No</td>\n",
       "      <td>KigaliCity</td>\n",
       "      <td>Kicukiro</td>\n",
       "      <td>Kanombe</td>\n",
       "      <td>NaN</td>\n",
       "    </tr>\n",
       "    <tr>\n",
       "      <th>1</th>\n",
       "      <td>A 4 BEDROOM HOUSE FOR RENT IN KIGALI AT KIBAGA...</td>\n",
       "      <td>HR500K030420231502AMKibagabaga</td>\n",
       "      <td>House</td>\n",
       "      <td>Rwf500000/month</td>\n",
       "      <td>m²</td>\n",
       "      <td>4</td>\n",
       "      <td>3</td>\n",
       "      <td>Apr3,2023</td>\n",
       "      <td>Rent</td>\n",
       "      <td>No</td>\n",
       "      <td>No</td>\n",
       "      <td>KigaliCity</td>\n",
       "      <td>Gasabo</td>\n",
       "      <td>Kibagabaga</td>\n",
       "      <td>NaN</td>\n",
       "    </tr>\n",
       "    <tr>\n",
       "      <th>2</th>\n",
       "      <td>A RENEWED 4 BEDROOM HOUSE FOR RENT IN KIGALI A...</td>\n",
       "      <td>HR1.5K010420231102LUKacyiru</td>\n",
       "      <td>House</td>\n",
       "      <td>$1500/month</td>\n",
       "      <td>1247m²</td>\n",
       "      <td>4</td>\n",
       "      <td>3</td>\n",
       "      <td>Apr3,2023</td>\n",
       "      <td>Rent</td>\n",
       "      <td>No</td>\n",
       "      <td>No</td>\n",
       "      <td>KigaliCity</td>\n",
       "      <td>Gasabo</td>\n",
       "      <td>Kacyiru</td>\n",
       "      <td>NaN</td>\n",
       "    </tr>\n",
       "    <tr>\n",
       "      <th>3</th>\n",
       "      <td>A 3 BEDROOMS APARTMENT FOR RENT IN KIGALI AT G...</td>\n",
       "      <td>AR400K310320231140AMRemera</td>\n",
       "      <td>Apartment</td>\n",
       "      <td>NaN</td>\n",
       "      <td>965m²</td>\n",
       "      <td>NaN</td>\n",
       "      <td>NaN</td>\n",
       "      <td>Apr3,2023</td>\n",
       "      <td>Rent</td>\n",
       "      <td>No</td>\n",
       "      <td>No</td>\n",
       "      <td>KigaliCity</td>\n",
       "      <td>Gasabo</td>\n",
       "      <td>Gishushu</td>\n",
       "      <td>Rwf400000/month</td>\n",
       "    </tr>\n",
       "  </tbody>\n",
       "</table>\n",
       "</div>"
      ],
      "text/plain": [
       "                                               Title  \\\n",
       "0    A 4 BEDROOM HOUSE FOR RENT IN KIGALI AT KANOMBE   \n",
       "1  A 4 BEDROOM HOUSE FOR RENT IN KIGALI AT KIBAGA...   \n",
       "2  A RENEWED 4 BEDROOM HOUSE FOR RENT IN KIGALI A...   \n",
       "3  A 3 BEDROOMS APARTMENT FOR RENT IN KIGALI AT G...   \n",
       "\n",
       "                      Property Id Property type Price, Main house  Land size  \\\n",
       "0     HR400K125620232703LUKanombe         House    Rwf400000/month        m²   \n",
       "1  HR500K030420231502AMKibagabaga         House    Rwf500000/month        m²   \n",
       "2     HR1.5K010420231102LUKacyiru         House        $1500/month    1247m²   \n",
       "3      AR400K310320231140AMRemera     Apartment                NaN     965m²   \n",
       "\n",
       "  Bedrooms Bathrooms Available From Listing type Furnished Bookable  \\\n",
       "0        4         3      Apr3,2023         Rent        No       No   \n",
       "1        4         3      Apr3,2023         Rent        No       No   \n",
       "2        4         3      Apr3,2023         Rent        No       No   \n",
       "3      NaN       NaN      Apr3,2023         Rent        No       No   \n",
       "\n",
       "     Province Disctrict Neighbourhood Price, 3 bedroom apartment   \n",
       "0  KigaliCity  Kicukiro       Kanombe                         NaN  \n",
       "1  KigaliCity    Gasabo    Kibagabaga                         NaN  \n",
       "2  KigaliCity    Gasabo       Kacyiru                         NaN  \n",
       "3  KigaliCity    Gasabo      Gishushu             Rwf400000/month  "
      ]
     },
     "execution_count": 273,
     "metadata": {},
     "output_type": "execute_result"
    }
   ],
   "source": [
    "all_links(links)"
   ]
  },
  {
   "cell_type": "code",
   "execution_count": 66,
   "metadata": {},
   "outputs": [],
   "source": []
  },
  {
   "cell_type": "code",
   "execution_count": null,
   "metadata": {},
   "outputs": [],
   "source": []
  }
 ],
 "metadata": {
  "kernelspec": {
   "display_name": "Python 3",
   "language": "python",
   "name": "python3"
  },
  "language_info": {
   "codemirror_mode": {
    "name": "ipython",
    "version": 3
   },
   "file_extension": ".py",
   "mimetype": "text/x-python",
   "name": "python",
   "nbconvert_exporter": "python",
   "pygments_lexer": "ipython3",
   "version": "3.8.5"
  }
 },
 "nbformat": 4,
 "nbformat_minor": 4
}
