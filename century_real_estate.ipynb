{
 "cells": [
  {
   "cell_type": "code",
   "execution_count": 135,
   "metadata": {},
   "outputs": [],
   "source": [
    "import re\n",
    "import numpy as np\n",
    "import requests\n",
    "from bs4 import BeautifulSoup\n",
    "import pandas as pd\n",
    "import lxml"
   ]
  },
  {
   "cell_type": "code",
   "execution_count": 123,
   "metadata": {},
   "outputs": [],
   "source": [
    "url = \"https://www.centuryrealestategroup.com/for-sale/\"\n",
    "url_2 = \"https://www.centuryrealestategroup.com/for-rent/\""
   ]
  },
  {
   "cell_type": "code",
   "execution_count": 126,
   "metadata": {},
   "outputs": [],
   "source": [
    "def house_urls(url, url_page):\n",
    "    response = requests.get(url)\n",
    "    soup = BeautifulSoup(response.text, 'lxml')\n",
    "    h4_tags = soup.select(\"h4\")\n",
    "    \n",
    "    links = []\n",
    "    for h4 in h4_tags:\n",
    "        a_tag = h4.find(\"a\")\n",
    "        if a_tag is not None:\n",
    "            links.append(a_tag[\"href\"])\n",
    "            \n",
    "    return links"
   ]
  },
  {
   "cell_type": "code",
   "execution_count": 131,
   "metadata": {},
   "outputs": [],
   "source": [
    "def page_urls(url, page_number):\n",
    "    tot_urls = []\n",
    "    for page in range(1, page_number+1):\n",
    "        tot_urls.extend(house_urls(url, url + \"page/\" + str(page) + \"/\"))\n",
    "    return tot_urls"
   ]
  },
  {
   "cell_type": "code",
   "execution_count": 141,
   "metadata": {},
   "outputs": [],
   "source": [
    "for_rent = page_urls(url = url_2, page_number=5)"
   ]
  },
  {
   "cell_type": "code",
   "execution_count": 142,
   "metadata": {},
   "outputs": [],
   "source": [
    "for_rent = page_urls(url = url, page_number=5)"
   ]
  },
  {
   "cell_type": "code",
   "execution_count": 145,
   "metadata": {},
   "outputs": [],
   "source": [
    "def info(house_url):\n",
    "    response = requests.get(house_url)\n",
    "    soup = BeautifulSoup(response.text, 'lxml')\n",
    "    \n",
    "    house_dict = {}\n",
    "    \n",
    "    house_dict[\"Title\"] = soup.select(\"h2\")[0].text\n",
    "    house_dict[\"Advert type\"] = soup.select(\"span.property-badge\")[0].text\n",
    "    house_dict[\"Price\"] = soup.select(\"div.property-pricing\")[0].text.strip('\\n')\n",
    "    bedrooms = soup.select(\"li.main-detail-_bedrooms\")\n",
    "\n",
    "    if bedrooms:\n",
    "        house_dict[\"Bedrooms\"] = bedrooms[0].text\n",
    "    else:\n",
    "        house_dict[\"Bedrooms\"] = \"N/A\"\n",
    "    \n",
    "    bathrooms = soup.select(\"li.main-detail-_bathrooms\")\n",
    "    \n",
    "    if bathrooms:\n",
    "        house_dict[\"Bathrooms\"] = bathrooms[0].text\n",
    "    else:\n",
    "        house_dict[\"Bathrooms\"] = \"N/A\"\n",
    "        \n",
    "    house_dict[\"Property Type\"] = soup.select(\"span.property-type-badge\")[0].text\n",
    "    plot = soup.select(\"li.main-detail-_area\")\n",
    "    \n",
    "    if plot:\n",
    "        house_dict[\"Plot size\"] = plot[0].text\n",
    "    else:\n",
    "        house_dict[\"Plot size\"] = \"N/A\"\n",
    "    \n",
    "    return house_dict\n",
    "    "
   ]
  },
  {
   "cell_type": "code",
   "execution_count": 121,
   "metadata": {},
   "outputs": [],
   "source": [
    "def final_data(urls):\n",
    "    data = []\n",
    "    for link in urls:\n",
    "        data.append(info(link))\n",
    "    df = pd.DataFrame(data)\n",
    "    return df"
   ]
  },
  {
   "cell_type": "code",
   "execution_count": 143,
   "metadata": {},
   "outputs": [
    {
     "data": {
      "text/html": [
       "<div>\n",
       "<style scoped>\n",
       "    .dataframe tbody tr th:only-of-type {\n",
       "        vertical-align: middle;\n",
       "    }\n",
       "\n",
       "    .dataframe tbody tr th {\n",
       "        vertical-align: top;\n",
       "    }\n",
       "\n",
       "    .dataframe thead th {\n",
       "        text-align: right;\n",
       "    }\n",
       "</style>\n",
       "<table border=\"1\" class=\"dataframe\">\n",
       "  <thead>\n",
       "    <tr style=\"text-align: right;\">\n",
       "      <th></th>\n",
       "      <th>Title</th>\n",
       "      <th>Advert type</th>\n",
       "      <th>Price</th>\n",
       "      <th>Bedrooms</th>\n",
       "      <th>Bathrooms</th>\n",
       "      <th>Property Type</th>\n",
       "      <th>Plot size</th>\n",
       "    </tr>\n",
       "  </thead>\n",
       "  <tbody>\n",
       "    <tr>\n",
       "      <th>0</th>\n",
       "      <td>CS 180 NYAMATA For Sale Commercial Land</td>\n",
       "      <td>For Sale</td>\n",
       "      <td>RWF 195,000,000</td>\n",
       "      <td>N/A</td>\n",
       "      <td>N/A</td>\n",
       "      <td>Commercial Land</td>\n",
       "      <td>N/A</td>\n",
       "    </tr>\n",
       "    <tr>\n",
       "      <th>1</th>\n",
       "      <td>CS 179 NYAMATA For Sale Residential Land</td>\n",
       "      <td>For Sale</td>\n",
       "      <td>RWF 350,000,000</td>\n",
       "      <td>N/A</td>\n",
       "      <td>N/A</td>\n",
       "      <td>Residential Land</td>\n",
       "      <td>N/A</td>\n",
       "    </tr>\n",
       "    <tr>\n",
       "      <th>2</th>\n",
       "      <td>CS 177 BUSANZA For Sale Apartments</td>\n",
       "      <td>For Sale</td>\n",
       "      <td>RWF 80,000,000</td>\n",
       "      <td>3 Bedrooms</td>\n",
       "      <td>2.5 Bathrooms</td>\n",
       "      <td>Apartments</td>\n",
       "      <td>sq m 512</td>\n",
       "    </tr>\n",
       "    <tr>\n",
       "      <th>3</th>\n",
       "      <td>CS 176 BUGESERA For Sale Agricultural Land</td>\n",
       "      <td>For Sale</td>\n",
       "      <td>RWF 150,000,000</td>\n",
       "      <td>N/A</td>\n",
       "      <td>N/A</td>\n",
       "      <td>Agricultural Land</td>\n",
       "      <td>N/A</td>\n",
       "    </tr>\n",
       "  </tbody>\n",
       "</table>\n",
       "</div>"
      ],
      "text/plain": [
       "                                        Title Advert type            Price  \\\n",
       "0     CS 180 NYAMATA For Sale Commercial Land    For Sale  RWF 195,000,000   \n",
       "1    CS 179 NYAMATA For Sale Residential Land    For Sale  RWF 350,000,000   \n",
       "2          CS 177 BUSANZA For Sale Apartments    For Sale   RWF 80,000,000   \n",
       "3  CS 176 BUGESERA For Sale Agricultural Land    For Sale  RWF 150,000,000   \n",
       "\n",
       "      Bedrooms       Bathrooms      Property Type  Plot size  \n",
       "0          N/A             N/A    Commercial Land        N/A  \n",
       "1          N/A             N/A   Residential Land        N/A  \n",
       "2  3 Bedrooms   2.5 Bathrooms          Apartments  sq m 512   \n",
       "3          N/A             N/A  Agricultural Land        N/A  "
      ]
     },
     "execution_count": 143,
     "metadata": {},
     "output_type": "execute_result"
    }
   ],
   "source": [
    "final_data(for_rent[1:5])"
   ]
  }
 ],
 "metadata": {
  "kernelspec": {
   "display_name": "Python 3",
   "language": "python",
   "name": "python3"
  },
  "language_info": {
   "codemirror_mode": {
    "name": "ipython",
    "version": 3
   },
   "file_extension": ".py",
   "mimetype": "text/x-python",
   "name": "python",
   "nbconvert_exporter": "python",
   "pygments_lexer": "ipython3",
   "version": "3.8.5"
  }
 },
 "nbformat": 4,
 "nbformat_minor": 4
}
